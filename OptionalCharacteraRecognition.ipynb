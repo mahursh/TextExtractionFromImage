{
  "cells": [
    {
      "cell_type": "markdown",
      "source": [
        "In this project, we will be working on extracting text from images. after extracting the text we will apply some basic functions of OpenCV on that text to enhance it and to get more  accurate results. This project will be very useful as it eill save time and effort of typing from image.\n"
      ],
      "metadata": {
        "id": "7dd8360a-8a0a-42a6-af65-3a708f4fe165"
      },
      "id": "7dd8360a-8a0a-42a6-af65-3a708f4fe165"
    },
    {
      "cell_type": "code",
      "source": [
        "# Import requests to install tesseract\n",
        "import requests"
      ],
      "metadata": {
        "id": "QZhQkmw1wVpT"
      },
      "id": "QZhQkmw1wVpT",
      "execution_count": 1,
      "outputs": []
    },
    {
      "cell_type": "code",
      "source": [],
      "metadata": {
        "id": "KKjCeXuxwiT8"
      },
      "id": "KKjCeXuxwiT8",
      "execution_count": null,
      "outputs": []
    }
  ],
  "metadata": {
    "kernelspec": {
      "display_name": "Python 3 (ipykernel)",
      "language": "python",
      "name": "python3"
    },
    "language_info": {
      "codemirror_mode": {
        "name": "ipython",
        "version": 3
      },
      "file_extension": ".py",
      "mimetype": "text/x-python",
      "name": "python",
      "nbconvert_exporter": "python",
      "pygments_lexer": "ipython3",
      "version": "3.12.7"
    },
    "colab": {
      "provenance": []
    }
  },
  "nbformat": 4,
  "nbformat_minor": 5
}